{
 "cells": [
  {
   "cell_type": "markdown",
   "metadata": {
    "id": "0JWSr10p4V-P"
   },
   "source": [
    "# uber-analysis\n",
    "\n",
    "Use the \"Run\" button to execute the code."
   ]
  },
  {
   "cell_type": "code",
   "execution_count": null,
   "metadata": {
    "colab": {
     "base_uri": "https://localhost:8080/"
    },
    "executionInfo": {
     "elapsed": 10112,
     "status": "ok",
     "timestamp": 1693829579583,
     "user": {
      "displayName": "Daksh Gupta",
      "userId": "11278762978921575322"
     },
     "user_tz": -330
    },
    "id": "qeSJ2Xy_4V-j",
    "outputId": "b65c3524-13dd-46a9-b704-2dfefe864f41"
   },
   "outputs": [
    {
     "name": "stdout",
     "output_type": "stream",
     "text": [
      "Collecting opendatasets\n",
      "  Downloading opendatasets-0.1.22-py3-none-any.whl (15 kB)\n",
      "Requirement already satisfied: tqdm in /usr/local/lib/python3.10/dist-packages (from opendatasets) (4.66.1)\n",
      "Requirement already satisfied: kaggle in /usr/local/lib/python3.10/dist-packages (from opendatasets) (1.5.16)\n",
      "Requirement already satisfied: click in /usr/local/lib/python3.10/dist-packages (from opendatasets) (8.1.7)\n",
      "Requirement already satisfied: six>=1.10 in /usr/local/lib/python3.10/dist-packages (from kaggle->opendatasets) (1.16.0)\n",
      "Requirement already satisfied: certifi in /usr/local/lib/python3.10/dist-packages (from kaggle->opendatasets) (2023.7.22)\n",
      "Requirement already satisfied: python-dateutil in /usr/local/lib/python3.10/dist-packages (from kaggle->opendatasets) (2.8.2)\n",
      "Requirement already satisfied: requests in /usr/local/lib/python3.10/dist-packages (from kaggle->opendatasets) (2.31.0)\n",
      "Requirement already satisfied: python-slugify in /usr/local/lib/python3.10/dist-packages (from kaggle->opendatasets) (8.0.1)\n",
      "Requirement already satisfied: urllib3 in /usr/local/lib/python3.10/dist-packages (from kaggle->opendatasets) (2.0.4)\n",
      "Requirement already satisfied: bleach in /usr/local/lib/python3.10/dist-packages (from kaggle->opendatasets) (6.0.0)\n",
      "Requirement already satisfied: webencodings in /usr/local/lib/python3.10/dist-packages (from bleach->kaggle->opendatasets) (0.5.1)\n",
      "Requirement already satisfied: text-unidecode>=1.3 in /usr/local/lib/python3.10/dist-packages (from python-slugify->kaggle->opendatasets) (1.3)\n",
      "Requirement already satisfied: charset-normalizer<4,>=2 in /usr/local/lib/python3.10/dist-packages (from requests->kaggle->opendatasets) (3.2.0)\n",
      "Requirement already satisfied: idna<4,>=2.5 in /usr/local/lib/python3.10/dist-packages (from requests->kaggle->opendatasets) (3.4)\n",
      "Installing collected packages: opendatasets\n",
      "Successfully installed opendatasets-0.1.22\n"
     ]
    }
   ],
   "source": [
    "pip install opendatasets --upgrade"
   ]
  },
  {
   "cell_type": "markdown",
   "metadata": {
    "id": "FURDrdxJkPJ5"
   },
   "source": [
    "Downloading Data Set"
   ]
  },
  {
   "cell_type": "code",
   "execution_count": null,
   "metadata": {
    "colab": {
     "base_uri": "https://localhost:8080/"
    },
    "executionInfo": {
     "elapsed": 27650,
     "status": "ok",
     "timestamp": 1693830959806,
     "user": {
      "displayName": "Daksh Gupta",
      "userId": "11278762978921575322"
     },
     "user_tz": -330
    },
    "id": "R47c8Kt-4er-",
    "outputId": "826019f1-06a2-4103-e47f-651ed248b9e7"
   },
   "outputs": [
    {
     "name": "stdout",
     "output_type": "stream",
     "text": [
      "Please provide your Kaggle credentials to download this dataset. Learn more: http://bit.ly/kaggle-creds\n",
      "Your Kaggle username: dakshgupta1509\n",
      "Your Kaggle Key: ··········\n",
      "Downloading thailand-drug-offenses-2017-2022.zip to ./thailand-drug-offenses-2017-2022\n"
     ]
    },
    {
     "name": "stderr",
     "output_type": "stream",
     "text": [
      "100%|██████████| 66.1k/66.1k [00:00<00:00, 440kB/s]"
     ]
    },
    {
     "name": "stdout",
     "output_type": "stream",
     "text": [
      "\n"
     ]
    },
    {
     "name": "stderr",
     "output_type": "stream",
     "text": [
      "\n"
     ]
    }
   ],
   "source": [
    "import opendatasets as od\n",
    "download_url= 'https://www.kaggle.com/datasets/thaweewatboy/thailand-drug-offenses-2017-2022'\n",
    "od.download(download_url)\n"
   ]
  },
  {
   "cell_type": "code",
   "execution_count": 29,
   "metadata": {
    "executionInfo": {
     "elapsed": 2,
     "status": "ok",
     "timestamp": 1693831601550,
     "user": {
      "displayName": "Daksh Gupta",
      "userId": "11278762978921575322"
     },
     "user_tz": -330
    },
    "id": "2xNR_Inw8IfH"
   },
   "outputs": [],
   "source": [
    "data_filename='./thailand-drug-offenses-2017-2022/thai_drug_offenses_2017_2022.csv'"
   ]
  },
  {
   "cell_type": "markdown",
   "metadata": {
    "id": "twzuSFsAkS6v"
   },
   "source": [
    "analysing Data set"
   ]
  },
  {
   "cell_type": "code",
   "execution_count": 30,
   "metadata": {
    "executionInfo": {
     "elapsed": 2,
     "status": "ok",
     "timestamp": 1693831605625,
     "user": {
      "displayName": "Daksh Gupta",
      "userId": "11278762978921575322"
     },
     "user_tz": -330
    },
    "id": "IUYlZC5a8l6t"
   },
   "outputs": [],
   "source": [
    "import pandas as pd\n",
    "df=pd.read_csv(data_filename)\n"
   ]
  },
  {
   "cell_type": "code",
   "execution_count": 31,
   "metadata": {
    "colab": {
     "base_uri": "https://localhost:8080/",
     "height": 424
    },
    "executionInfo": {
     "elapsed": 599,
     "status": "ok",
     "timestamp": 1693831700027,
     "user": {
      "displayName": "Daksh Gupta",
      "userId": "11278762978921575322"
     },
     "user_tz": -330
    },
    "id": "_DklfWn_9tOf",
    "outputId": "28e3b297-14c6-4989-d007-26ea2f6923c5"
   },
   "outputs": [
    {
     "data": {
      "text/html": [
       "\n",
       "  <div id=\"df-fa9836fe-bb33-402e-9862-1909c061b09c\" class=\"colab-df-container\">\n",
       "    <div>\n",
       "<style scoped>\n",
       "    .dataframe tbody tr th:only-of-type {\n",
       "        vertical-align: middle;\n",
       "    }\n",
       "\n",
       "    .dataframe tbody tr th {\n",
       "        vertical-align: top;\n",
       "    }\n",
       "\n",
       "    .dataframe thead th {\n",
       "        text-align: right;\n",
       "    }\n",
       "</style>\n",
       "<table border=\"1\" class=\"dataframe\">\n",
       "  <thead>\n",
       "    <tr style=\"text-align: right;\">\n",
       "      <th></th>\n",
       "      <th>fiscal_year</th>\n",
       "      <th>types_of_drug_offenses</th>\n",
       "      <th>no_cases</th>\n",
       "      <th>province_th</th>\n",
       "      <th>province_en</th>\n",
       "    </tr>\n",
       "  </thead>\n",
       "  <tbody>\n",
       "    <tr>\n",
       "      <th>0</th>\n",
       "      <td>2017</td>\n",
       "      <td>drug_use_cases</td>\n",
       "      <td>11871</td>\n",
       "      <td>กรุงเทพมหานคร</td>\n",
       "      <td>Bangkok</td>\n",
       "    </tr>\n",
       "    <tr>\n",
       "      <th>1</th>\n",
       "      <td>2017</td>\n",
       "      <td>drug_use_cases</td>\n",
       "      <td>200</td>\n",
       "      <td>ชัยนาท</td>\n",
       "      <td>Chai Nat</td>\n",
       "    </tr>\n",
       "    <tr>\n",
       "      <th>2</th>\n",
       "      <td>2017</td>\n",
       "      <td>drug_use_cases</td>\n",
       "      <td>553</td>\n",
       "      <td>นนทบุรี</td>\n",
       "      <td>Nonthaburi</td>\n",
       "    </tr>\n",
       "    <tr>\n",
       "      <th>3</th>\n",
       "      <td>2017</td>\n",
       "      <td>drug_use_cases</td>\n",
       "      <td>450</td>\n",
       "      <td>ปทุมธานี</td>\n",
       "      <td>Pathum Thani</td>\n",
       "    </tr>\n",
       "    <tr>\n",
       "      <th>4</th>\n",
       "      <td>2017</td>\n",
       "      <td>drug_use_cases</td>\n",
       "      <td>378</td>\n",
       "      <td>พระนครศรีอยุธยา</td>\n",
       "      <td>Phra Nakhon Si Ayutthaya</td>\n",
       "    </tr>\n",
       "    <tr>\n",
       "      <th>...</th>\n",
       "      <td>...</td>\n",
       "      <td>...</td>\n",
       "      <td>...</td>\n",
       "      <td>...</td>\n",
       "      <td>...</td>\n",
       "    </tr>\n",
       "    <tr>\n",
       "      <th>7387</th>\n",
       "      <td>2022</td>\n",
       "      <td>suspects_in_conspiracy_cases</td>\n",
       "      <td>0</td>\n",
       "      <td>อำนาจเจริญ</td>\n",
       "      <td>Amnat Charoen</td>\n",
       "    </tr>\n",
       "    <tr>\n",
       "      <th>7388</th>\n",
       "      <td>2022</td>\n",
       "      <td>suspects_in_conspiracy_cases</td>\n",
       "      <td>0</td>\n",
       "      <td>อุดรธานี</td>\n",
       "      <td>Udon Thani</td>\n",
       "    </tr>\n",
       "    <tr>\n",
       "      <th>7389</th>\n",
       "      <td>2022</td>\n",
       "      <td>suspects_in_conspiracy_cases</td>\n",
       "      <td>0</td>\n",
       "      <td>อุตรดิตถ์</td>\n",
       "      <td>Uttaradit</td>\n",
       "    </tr>\n",
       "    <tr>\n",
       "      <th>7390</th>\n",
       "      <td>2022</td>\n",
       "      <td>suspects_in_conspiracy_cases</td>\n",
       "      <td>0</td>\n",
       "      <td>อุทัยธานี</td>\n",
       "      <td>Uthai Thani</td>\n",
       "    </tr>\n",
       "    <tr>\n",
       "      <th>7391</th>\n",
       "      <td>2022</td>\n",
       "      <td>suspects_in_conspiracy_cases</td>\n",
       "      <td>0</td>\n",
       "      <td>อุบลราชธานี</td>\n",
       "      <td>Ubon Ratchathani</td>\n",
       "    </tr>\n",
       "  </tbody>\n",
       "</table>\n",
       "<p>7392 rows × 5 columns</p>\n",
       "</div>\n",
       "    <div class=\"colab-df-buttons\">\n",
       "\n",
       "  <div class=\"colab-df-container\">\n",
       "    <button class=\"colab-df-convert\" onclick=\"convertToInteractive('df-fa9836fe-bb33-402e-9862-1909c061b09c')\"\n",
       "            title=\"Convert this dataframe to an interactive table.\"\n",
       "            style=\"display:none;\">\n",
       "\n",
       "  <svg xmlns=\"http://www.w3.org/2000/svg\" height=\"24px\" viewBox=\"0 -960 960 960\">\n",
       "    <path d=\"M120-120v-720h720v720H120Zm60-500h600v-160H180v160Zm220 220h160v-160H400v160Zm0 220h160v-160H400v160ZM180-400h160v-160H180v160Zm440 0h160v-160H620v160ZM180-180h160v-160H180v160Zm440 0h160v-160H620v160Z\"/>\n",
       "  </svg>\n",
       "    </button>\n",
       "\n",
       "  <style>\n",
       "    .colab-df-container {\n",
       "      display:flex;\n",
       "      gap: 12px;\n",
       "    }\n",
       "\n",
       "    .colab-df-convert {\n",
       "      background-color: #E8F0FE;\n",
       "      border: none;\n",
       "      border-radius: 50%;\n",
       "      cursor: pointer;\n",
       "      display: none;\n",
       "      fill: #1967D2;\n",
       "      height: 32px;\n",
       "      padding: 0 0 0 0;\n",
       "      width: 32px;\n",
       "    }\n",
       "\n",
       "    .colab-df-convert:hover {\n",
       "      background-color: #E2EBFA;\n",
       "      box-shadow: 0px 1px 2px rgba(60, 64, 67, 0.3), 0px 1px 3px 1px rgba(60, 64, 67, 0.15);\n",
       "      fill: #174EA6;\n",
       "    }\n",
       "\n",
       "    .colab-df-buttons div {\n",
       "      margin-bottom: 4px;\n",
       "    }\n",
       "\n",
       "    [theme=dark] .colab-df-convert {\n",
       "      background-color: #3B4455;\n",
       "      fill: #D2E3FC;\n",
       "    }\n",
       "\n",
       "    [theme=dark] .colab-df-convert:hover {\n",
       "      background-color: #434B5C;\n",
       "      box-shadow: 0px 1px 3px 1px rgba(0, 0, 0, 0.15);\n",
       "      filter: drop-shadow(0px 1px 2px rgba(0, 0, 0, 0.3));\n",
       "      fill: #FFFFFF;\n",
       "    }\n",
       "  </style>\n",
       "\n",
       "    <script>\n",
       "      const buttonEl =\n",
       "        document.querySelector('#df-fa9836fe-bb33-402e-9862-1909c061b09c button.colab-df-convert');\n",
       "      buttonEl.style.display =\n",
       "        google.colab.kernel.accessAllowed ? 'block' : 'none';\n",
       "\n",
       "      async function convertToInteractive(key) {\n",
       "        const element = document.querySelector('#df-fa9836fe-bb33-402e-9862-1909c061b09c');\n",
       "        const dataTable =\n",
       "          await google.colab.kernel.invokeFunction('convertToInteractive',\n",
       "                                                    [key], {});\n",
       "        if (!dataTable) return;\n",
       "\n",
       "        const docLinkHtml = 'Like what you see? Visit the ' +\n",
       "          '<a target=\"_blank\" href=https://colab.research.google.com/notebooks/data_table.ipynb>data table notebook</a>'\n",
       "          + ' to learn more about interactive tables.';\n",
       "        element.innerHTML = '';\n",
       "        dataTable['output_type'] = 'display_data';\n",
       "        await google.colab.output.renderOutput(dataTable, element);\n",
       "        const docLink = document.createElement('div');\n",
       "        docLink.innerHTML = docLinkHtml;\n",
       "        element.appendChild(docLink);\n",
       "      }\n",
       "    </script>\n",
       "  </div>\n",
       "\n",
       "\n",
       "<div id=\"df-92ad38e8-6366-4c8e-a43f-c9f9ddad9ab3\">\n",
       "  <button class=\"colab-df-quickchart\" onclick=\"quickchart('df-92ad38e8-6366-4c8e-a43f-c9f9ddad9ab3')\"\n",
       "            title=\"Suggest charts.\"\n",
       "            style=\"display:none;\">\n",
       "\n",
       "<svg xmlns=\"http://www.w3.org/2000/svg\" height=\"24px\"viewBox=\"0 0 24 24\"\n",
       "     width=\"24px\">\n",
       "    <g>\n",
       "        <path d=\"M19 3H5c-1.1 0-2 .9-2 2v14c0 1.1.9 2 2 2h14c1.1 0 2-.9 2-2V5c0-1.1-.9-2-2-2zM9 17H7v-7h2v7zm4 0h-2V7h2v10zm4 0h-2v-4h2v4z\"/>\n",
       "    </g>\n",
       "</svg>\n",
       "  </button>\n",
       "\n",
       "<style>\n",
       "  .colab-df-quickchart {\n",
       "      --bg-color: #E8F0FE;\n",
       "      --fill-color: #1967D2;\n",
       "      --hover-bg-color: #E2EBFA;\n",
       "      --hover-fill-color: #174EA6;\n",
       "      --disabled-fill-color: #AAA;\n",
       "      --disabled-bg-color: #DDD;\n",
       "  }\n",
       "\n",
       "  [theme=dark] .colab-df-quickchart {\n",
       "      --bg-color: #3B4455;\n",
       "      --fill-color: #D2E3FC;\n",
       "      --hover-bg-color: #434B5C;\n",
       "      --hover-fill-color: #FFFFFF;\n",
       "      --disabled-bg-color: #3B4455;\n",
       "      --disabled-fill-color: #666;\n",
       "  }\n",
       "\n",
       "  .colab-df-quickchart {\n",
       "    background-color: var(--bg-color);\n",
       "    border: none;\n",
       "    border-radius: 50%;\n",
       "    cursor: pointer;\n",
       "    display: none;\n",
       "    fill: var(--fill-color);\n",
       "    height: 32px;\n",
       "    padding: 0;\n",
       "    width: 32px;\n",
       "  }\n",
       "\n",
       "  .colab-df-quickchart:hover {\n",
       "    background-color: var(--hover-bg-color);\n",
       "    box-shadow: 0 1px 2px rgba(60, 64, 67, 0.3), 0 1px 3px 1px rgba(60, 64, 67, 0.15);\n",
       "    fill: var(--button-hover-fill-color);\n",
       "  }\n",
       "\n",
       "  .colab-df-quickchart-complete:disabled,\n",
       "  .colab-df-quickchart-complete:disabled:hover {\n",
       "    background-color: var(--disabled-bg-color);\n",
       "    fill: var(--disabled-fill-color);\n",
       "    box-shadow: none;\n",
       "  }\n",
       "\n",
       "  .colab-df-spinner {\n",
       "    border: 2px solid var(--fill-color);\n",
       "    border-color: transparent;\n",
       "    border-bottom-color: var(--fill-color);\n",
       "    animation:\n",
       "      spin 1s steps(1) infinite;\n",
       "  }\n",
       "\n",
       "  @keyframes spin {\n",
       "    0% {\n",
       "      border-color: transparent;\n",
       "      border-bottom-color: var(--fill-color);\n",
       "      border-left-color: var(--fill-color);\n",
       "    }\n",
       "    20% {\n",
       "      border-color: transparent;\n",
       "      border-left-color: var(--fill-color);\n",
       "      border-top-color: var(--fill-color);\n",
       "    }\n",
       "    30% {\n",
       "      border-color: transparent;\n",
       "      border-left-color: var(--fill-color);\n",
       "      border-top-color: var(--fill-color);\n",
       "      border-right-color: var(--fill-color);\n",
       "    }\n",
       "    40% {\n",
       "      border-color: transparent;\n",
       "      border-right-color: var(--fill-color);\n",
       "      border-top-color: var(--fill-color);\n",
       "    }\n",
       "    60% {\n",
       "      border-color: transparent;\n",
       "      border-right-color: var(--fill-color);\n",
       "    }\n",
       "    80% {\n",
       "      border-color: transparent;\n",
       "      border-right-color: var(--fill-color);\n",
       "      border-bottom-color: var(--fill-color);\n",
       "    }\n",
       "    90% {\n",
       "      border-color: transparent;\n",
       "      border-bottom-color: var(--fill-color);\n",
       "    }\n",
       "  }\n",
       "</style>\n",
       "\n",
       "  <script>\n",
       "    async function quickchart(key) {\n",
       "      const quickchartButtonEl =\n",
       "        document.querySelector('#' + key + ' button');\n",
       "      quickchartButtonEl.disabled = true;  // To prevent multiple clicks.\n",
       "      quickchartButtonEl.classList.add('colab-df-spinner');\n",
       "      try {\n",
       "        const charts = await google.colab.kernel.invokeFunction(\n",
       "            'suggestCharts', [key], {});\n",
       "      } catch (error) {\n",
       "        console.error('Error during call to suggestCharts:', error);\n",
       "      }\n",
       "      quickchartButtonEl.classList.remove('colab-df-spinner');\n",
       "      quickchartButtonEl.classList.add('colab-df-quickchart-complete');\n",
       "    }\n",
       "    (() => {\n",
       "      let quickchartButtonEl =\n",
       "        document.querySelector('#df-92ad38e8-6366-4c8e-a43f-c9f9ddad9ab3 button');\n",
       "      quickchartButtonEl.style.display =\n",
       "        google.colab.kernel.accessAllowed ? 'block' : 'none';\n",
       "    })();\n",
       "  </script>\n",
       "</div>\n",
       "    </div>\n",
       "  </div>\n"
      ],
      "text/plain": [
       "      fiscal_year        types_of_drug_offenses  no_cases      province_th  \\\n",
       "0            2017                drug_use_cases     11871    กรุงเทพมหานคร   \n",
       "1            2017                drug_use_cases       200           ชัยนาท   \n",
       "2            2017                drug_use_cases       553          นนทบุรี   \n",
       "3            2017                drug_use_cases       450         ปทุมธานี   \n",
       "4            2017                drug_use_cases       378  พระนครศรีอยุธยา   \n",
       "...           ...                           ...       ...              ...   \n",
       "7387         2022  suspects_in_conspiracy_cases         0       อำนาจเจริญ   \n",
       "7388         2022  suspects_in_conspiracy_cases         0         อุดรธานี   \n",
       "7389         2022  suspects_in_conspiracy_cases         0        อุตรดิตถ์   \n",
       "7390         2022  suspects_in_conspiracy_cases         0        อุทัยธานี   \n",
       "7391         2022  suspects_in_conspiracy_cases         0      อุบลราชธานี   \n",
       "\n",
       "                   province_en  \n",
       "0                      Bangkok  \n",
       "1                     Chai Nat  \n",
       "2                   Nonthaburi  \n",
       "3                 Pathum Thani  \n",
       "4     Phra Nakhon Si Ayutthaya  \n",
       "...                        ...  \n",
       "7387             Amnat Charoen  \n",
       "7388                Udon Thani  \n",
       "7389                 Uttaradit  \n",
       "7390               Uthai Thani  \n",
       "7391          Ubon Ratchathani  \n",
       "\n",
       "[7392 rows x 5 columns]"
      ]
     },
     "execution_count": 31,
     "metadata": {},
     "output_type": "execute_result"
    }
   ],
   "source": [
    "df"
   ]
  },
  {
   "cell_type": "code",
   "execution_count": 32,
   "metadata": {
    "colab": {
     "base_uri": "https://localhost:8080/"
    },
    "executionInfo": {
     "elapsed": 550,
     "status": "ok",
     "timestamp": 1693831710733,
     "user": {
      "displayName": "Daksh Gupta",
      "userId": "11278762978921575322"
     },
     "user_tz": -330
    },
    "id": "C7H3zBwmukmP",
    "outputId": "f8ae8fae-fa66-4cac-cce6-6812321782b9"
   },
   "outputs": [
    {
     "data": {
      "text/plain": [
       "Index(['fiscal_year', 'types_of_drug_offenses', 'no_cases', 'province_th',\n",
       "       'province_en'],\n",
       "      dtype='object')"
      ]
     },
     "execution_count": 32,
     "metadata": {},
     "output_type": "execute_result"
    }
   ],
   "source": [
    "df.columns"
   ]
  },
  {
   "cell_type": "code",
   "execution_count": 33,
   "metadata": {
    "colab": {
     "base_uri": "https://localhost:8080/"
    },
    "executionInfo": {
     "elapsed": 511,
     "status": "ok",
     "timestamp": 1693831721776,
     "user": {
      "displayName": "Daksh Gupta",
      "userId": "11278762978921575322"
     },
     "user_tz": -330
    },
    "id": "Jxja_Z2-u4zW",
    "outputId": "a4882909-ebca-4054-e259-39de0a03197b"
   },
   "outputs": [
    {
     "data": {
      "text/plain": [
       "<bound method DataFrame.info of       fiscal_year        types_of_drug_offenses  no_cases      province_th  \\\n",
       "0            2017                drug_use_cases     11871    กรุงเทพมหานคร   \n",
       "1            2017                drug_use_cases       200           ชัยนาท   \n",
       "2            2017                drug_use_cases       553          นนทบุรี   \n",
       "3            2017                drug_use_cases       450         ปทุมธานี   \n",
       "4            2017                drug_use_cases       378  พระนครศรีอยุธยา   \n",
       "...           ...                           ...       ...              ...   \n",
       "7387         2022  suspects_in_conspiracy_cases         0       อำนาจเจริญ   \n",
       "7388         2022  suspects_in_conspiracy_cases         0         อุดรธานี   \n",
       "7389         2022  suspects_in_conspiracy_cases         0        อุตรดิตถ์   \n",
       "7390         2022  suspects_in_conspiracy_cases         0        อุทัยธานี   \n",
       "7391         2022  suspects_in_conspiracy_cases         0      อุบลราชธานี   \n",
       "\n",
       "                   province_en  \n",
       "0                      Bangkok  \n",
       "1                     Chai Nat  \n",
       "2                   Nonthaburi  \n",
       "3                 Pathum Thani  \n",
       "4     Phra Nakhon Si Ayutthaya  \n",
       "...                        ...  \n",
       "7387             Amnat Charoen  \n",
       "7388                Udon Thani  \n",
       "7389                 Uttaradit  \n",
       "7390               Uthai Thani  \n",
       "7391          Ubon Ratchathani  \n",
       "\n",
       "[7392 rows x 5 columns]>"
      ]
     },
     "execution_count": 33,
     "metadata": {},
     "output_type": "execute_result"
    }
   ],
   "source": [
    "df.info"
   ]
  },
  {
   "cell_type": "code",
   "execution_count": 35,
   "metadata": {
    "colab": {
     "base_uri": "https://localhost:8080/",
     "height": 300
    },
    "executionInfo": {
     "elapsed": 603,
     "status": "ok",
     "timestamp": 1693831738559,
     "user": {
      "displayName": "Daksh Gupta",
      "userId": "11278762978921575322"
     },
     "user_tz": -330
    },
    "id": "KcTzGBASu9RP",
    "outputId": "ed7a516f-21c8-48ba-b01b-8fd5bf576fd0"
   },
   "outputs": [
    {
     "data": {
      "text/html": [
       "\n",
       "  <div id=\"df-bab777f9-b274-4307-a34e-fd6643871dbc\" class=\"colab-df-container\">\n",
       "    <div>\n",
       "<style scoped>\n",
       "    .dataframe tbody tr th:only-of-type {\n",
       "        vertical-align: middle;\n",
       "    }\n",
       "\n",
       "    .dataframe tbody tr th {\n",
       "        vertical-align: top;\n",
       "    }\n",
       "\n",
       "    .dataframe thead th {\n",
       "        text-align: right;\n",
       "    }\n",
       "</style>\n",
       "<table border=\"1\" class=\"dataframe\">\n",
       "  <thead>\n",
       "    <tr style=\"text-align: right;\">\n",
       "      <th></th>\n",
       "      <th>fiscal_year</th>\n",
       "      <th>no_cases</th>\n",
       "    </tr>\n",
       "  </thead>\n",
       "  <tbody>\n",
       "    <tr>\n",
       "      <th>count</th>\n",
       "      <td>7392.000000</td>\n",
       "      <td>7392.000000</td>\n",
       "    </tr>\n",
       "    <tr>\n",
       "      <th>mean</th>\n",
       "      <td>2019.500000</td>\n",
       "      <td>535.348620</td>\n",
       "    </tr>\n",
       "    <tr>\n",
       "      <th>std</th>\n",
       "      <td>1.707941</td>\n",
       "      <td>1130.876262</td>\n",
       "    </tr>\n",
       "    <tr>\n",
       "      <th>min</th>\n",
       "      <td>2017.000000</td>\n",
       "      <td>0.000000</td>\n",
       "    </tr>\n",
       "    <tr>\n",
       "      <th>25%</th>\n",
       "      <td>2018.000000</td>\n",
       "      <td>1.000000</td>\n",
       "    </tr>\n",
       "    <tr>\n",
       "      <th>50%</th>\n",
       "      <td>2019.500000</td>\n",
       "      <td>70.000000</td>\n",
       "    </tr>\n",
       "    <tr>\n",
       "      <th>75%</th>\n",
       "      <td>2021.000000</td>\n",
       "      <td>623.000000</td>\n",
       "    </tr>\n",
       "    <tr>\n",
       "      <th>max</th>\n",
       "      <td>2022.000000</td>\n",
       "      <td>17131.000000</td>\n",
       "    </tr>\n",
       "  </tbody>\n",
       "</table>\n",
       "</div>\n",
       "    <div class=\"colab-df-buttons\">\n",
       "\n",
       "  <div class=\"colab-df-container\">\n",
       "    <button class=\"colab-df-convert\" onclick=\"convertToInteractive('df-bab777f9-b274-4307-a34e-fd6643871dbc')\"\n",
       "            title=\"Convert this dataframe to an interactive table.\"\n",
       "            style=\"display:none;\">\n",
       "\n",
       "  <svg xmlns=\"http://www.w3.org/2000/svg\" height=\"24px\" viewBox=\"0 -960 960 960\">\n",
       "    <path d=\"M120-120v-720h720v720H120Zm60-500h600v-160H180v160Zm220 220h160v-160H400v160Zm0 220h160v-160H400v160ZM180-400h160v-160H180v160Zm440 0h160v-160H620v160ZM180-180h160v-160H180v160Zm440 0h160v-160H620v160Z\"/>\n",
       "  </svg>\n",
       "    </button>\n",
       "\n",
       "  <style>\n",
       "    .colab-df-container {\n",
       "      display:flex;\n",
       "      gap: 12px;\n",
       "    }\n",
       "\n",
       "    .colab-df-convert {\n",
       "      background-color: #E8F0FE;\n",
       "      border: none;\n",
       "      border-radius: 50%;\n",
       "      cursor: pointer;\n",
       "      display: none;\n",
       "      fill: #1967D2;\n",
       "      height: 32px;\n",
       "      padding: 0 0 0 0;\n",
       "      width: 32px;\n",
       "    }\n",
       "\n",
       "    .colab-df-convert:hover {\n",
       "      background-color: #E2EBFA;\n",
       "      box-shadow: 0px 1px 2px rgba(60, 64, 67, 0.3), 0px 1px 3px 1px rgba(60, 64, 67, 0.15);\n",
       "      fill: #174EA6;\n",
       "    }\n",
       "\n",
       "    .colab-df-buttons div {\n",
       "      margin-bottom: 4px;\n",
       "    }\n",
       "\n",
       "    [theme=dark] .colab-df-convert {\n",
       "      background-color: #3B4455;\n",
       "      fill: #D2E3FC;\n",
       "    }\n",
       "\n",
       "    [theme=dark] .colab-df-convert:hover {\n",
       "      background-color: #434B5C;\n",
       "      box-shadow: 0px 1px 3px 1px rgba(0, 0, 0, 0.15);\n",
       "      filter: drop-shadow(0px 1px 2px rgba(0, 0, 0, 0.3));\n",
       "      fill: #FFFFFF;\n",
       "    }\n",
       "  </style>\n",
       "\n",
       "    <script>\n",
       "      const buttonEl =\n",
       "        document.querySelector('#df-bab777f9-b274-4307-a34e-fd6643871dbc button.colab-df-convert');\n",
       "      buttonEl.style.display =\n",
       "        google.colab.kernel.accessAllowed ? 'block' : 'none';\n",
       "\n",
       "      async function convertToInteractive(key) {\n",
       "        const element = document.querySelector('#df-bab777f9-b274-4307-a34e-fd6643871dbc');\n",
       "        const dataTable =\n",
       "          await google.colab.kernel.invokeFunction('convertToInteractive',\n",
       "                                                    [key], {});\n",
       "        if (!dataTable) return;\n",
       "\n",
       "        const docLinkHtml = 'Like what you see? Visit the ' +\n",
       "          '<a target=\"_blank\" href=https://colab.research.google.com/notebooks/data_table.ipynb>data table notebook</a>'\n",
       "          + ' to learn more about interactive tables.';\n",
       "        element.innerHTML = '';\n",
       "        dataTable['output_type'] = 'display_data';\n",
       "        await google.colab.output.renderOutput(dataTable, element);\n",
       "        const docLink = document.createElement('div');\n",
       "        docLink.innerHTML = docLinkHtml;\n",
       "        element.appendChild(docLink);\n",
       "      }\n",
       "    </script>\n",
       "  </div>\n",
       "\n",
       "\n",
       "<div id=\"df-8d7b8083-df51-4930-a977-7a6f7d2c17eb\">\n",
       "  <button class=\"colab-df-quickchart\" onclick=\"quickchart('df-8d7b8083-df51-4930-a977-7a6f7d2c17eb')\"\n",
       "            title=\"Suggest charts.\"\n",
       "            style=\"display:none;\">\n",
       "\n",
       "<svg xmlns=\"http://www.w3.org/2000/svg\" height=\"24px\"viewBox=\"0 0 24 24\"\n",
       "     width=\"24px\">\n",
       "    <g>\n",
       "        <path d=\"M19 3H5c-1.1 0-2 .9-2 2v14c0 1.1.9 2 2 2h14c1.1 0 2-.9 2-2V5c0-1.1-.9-2-2-2zM9 17H7v-7h2v7zm4 0h-2V7h2v10zm4 0h-2v-4h2v4z\"/>\n",
       "    </g>\n",
       "</svg>\n",
       "  </button>\n",
       "\n",
       "<style>\n",
       "  .colab-df-quickchart {\n",
       "      --bg-color: #E8F0FE;\n",
       "      --fill-color: #1967D2;\n",
       "      --hover-bg-color: #E2EBFA;\n",
       "      --hover-fill-color: #174EA6;\n",
       "      --disabled-fill-color: #AAA;\n",
       "      --disabled-bg-color: #DDD;\n",
       "  }\n",
       "\n",
       "  [theme=dark] .colab-df-quickchart {\n",
       "      --bg-color: #3B4455;\n",
       "      --fill-color: #D2E3FC;\n",
       "      --hover-bg-color: #434B5C;\n",
       "      --hover-fill-color: #FFFFFF;\n",
       "      --disabled-bg-color: #3B4455;\n",
       "      --disabled-fill-color: #666;\n",
       "  }\n",
       "\n",
       "  .colab-df-quickchart {\n",
       "    background-color: var(--bg-color);\n",
       "    border: none;\n",
       "    border-radius: 50%;\n",
       "    cursor: pointer;\n",
       "    display: none;\n",
       "    fill: var(--fill-color);\n",
       "    height: 32px;\n",
       "    padding: 0;\n",
       "    width: 32px;\n",
       "  }\n",
       "\n",
       "  .colab-df-quickchart:hover {\n",
       "    background-color: var(--hover-bg-color);\n",
       "    box-shadow: 0 1px 2px rgba(60, 64, 67, 0.3), 0 1px 3px 1px rgba(60, 64, 67, 0.15);\n",
       "    fill: var(--button-hover-fill-color);\n",
       "  }\n",
       "\n",
       "  .colab-df-quickchart-complete:disabled,\n",
       "  .colab-df-quickchart-complete:disabled:hover {\n",
       "    background-color: var(--disabled-bg-color);\n",
       "    fill: var(--disabled-fill-color);\n",
       "    box-shadow: none;\n",
       "  }\n",
       "\n",
       "  .colab-df-spinner {\n",
       "    border: 2px solid var(--fill-color);\n",
       "    border-color: transparent;\n",
       "    border-bottom-color: var(--fill-color);\n",
       "    animation:\n",
       "      spin 1s steps(1) infinite;\n",
       "  }\n",
       "\n",
       "  @keyframes spin {\n",
       "    0% {\n",
       "      border-color: transparent;\n",
       "      border-bottom-color: var(--fill-color);\n",
       "      border-left-color: var(--fill-color);\n",
       "    }\n",
       "    20% {\n",
       "      border-color: transparent;\n",
       "      border-left-color: var(--fill-color);\n",
       "      border-top-color: var(--fill-color);\n",
       "    }\n",
       "    30% {\n",
       "      border-color: transparent;\n",
       "      border-left-color: var(--fill-color);\n",
       "      border-top-color: var(--fill-color);\n",
       "      border-right-color: var(--fill-color);\n",
       "    }\n",
       "    40% {\n",
       "      border-color: transparent;\n",
       "      border-right-color: var(--fill-color);\n",
       "      border-top-color: var(--fill-color);\n",
       "    }\n",
       "    60% {\n",
       "      border-color: transparent;\n",
       "      border-right-color: var(--fill-color);\n",
       "    }\n",
       "    80% {\n",
       "      border-color: transparent;\n",
       "      border-right-color: var(--fill-color);\n",
       "      border-bottom-color: var(--fill-color);\n",
       "    }\n",
       "    90% {\n",
       "      border-color: transparent;\n",
       "      border-bottom-color: var(--fill-color);\n",
       "    }\n",
       "  }\n",
       "</style>\n",
       "\n",
       "  <script>\n",
       "    async function quickchart(key) {\n",
       "      const quickchartButtonEl =\n",
       "        document.querySelector('#' + key + ' button');\n",
       "      quickchartButtonEl.disabled = true;  // To prevent multiple clicks.\n",
       "      quickchartButtonEl.classList.add('colab-df-spinner');\n",
       "      try {\n",
       "        const charts = await google.colab.kernel.invokeFunction(\n",
       "            'suggestCharts', [key], {});\n",
       "      } catch (error) {\n",
       "        console.error('Error during call to suggestCharts:', error);\n",
       "      }\n",
       "      quickchartButtonEl.classList.remove('colab-df-spinner');\n",
       "      quickchartButtonEl.classList.add('colab-df-quickchart-complete');\n",
       "    }\n",
       "    (() => {\n",
       "      let quickchartButtonEl =\n",
       "        document.querySelector('#df-8d7b8083-df51-4930-a977-7a6f7d2c17eb button');\n",
       "      quickchartButtonEl.style.display =\n",
       "        google.colab.kernel.accessAllowed ? 'block' : 'none';\n",
       "    })();\n",
       "  </script>\n",
       "</div>\n",
       "    </div>\n",
       "  </div>\n"
      ],
      "text/plain": [
       "       fiscal_year      no_cases\n",
       "count  7392.000000   7392.000000\n",
       "mean   2019.500000    535.348620\n",
       "std       1.707941   1130.876262\n",
       "min    2017.000000      0.000000\n",
       "25%    2018.000000      1.000000\n",
       "50%    2019.500000     70.000000\n",
       "75%    2021.000000    623.000000\n",
       "max    2022.000000  17131.000000"
      ]
     },
     "execution_count": 35,
     "metadata": {},
     "output_type": "execute_result"
    }
   ],
   "source": [
    "df.describe()"
   ]
  },
  {
   "cell_type": "markdown",
   "metadata": {
    "id": "bwbf6v9Tkd99"
   },
   "source": [
    "QnA\n",
    "1.   range of years in dataset and how many cases per year were recorded?\n",
    "2.  most number of cases in which year took place?\n",
    "3. What type of cases was most common?\n",
    "4.   \n",
    "\n",
    "\n",
    "\n",
    "\n",
    "\n"
   ]
  },
  {
   "cell_type": "code",
   "execution_count": 41,
   "metadata": {
    "executionInfo": {
     "elapsed": 568,
     "status": "ok",
     "timestamp": 1693834095875,
     "user": {
      "displayName": "Daksh Gupta",
      "userId": "11278762978921575322"
     },
     "user_tz": -330
    },
    "id": "oem12zbtPwOy"
   },
   "outputs": [],
   "source": [
    "numerics=[\"int16\",\"int32\",\"int64\",\"float16\",\"float32\",\"float64\"]\n",
    "numeric_df= df.select_dtypes(include=numerics)\n",
    "len(numeric_df.columns)\n",
    "graph=numeric_df.columns"
   ]
  },
  {
   "cell_type": "code",
   "execution_count": 38,
   "metadata": {
    "colab": {
     "base_uri": "https://localhost:8080/"
    },
    "executionInfo": {
     "elapsed": 544,
     "status": "ok",
     "timestamp": 1693832545715,
     "user": {
      "displayName": "Daksh Gupta",
      "userId": "11278762978921575322"
     },
     "user_tz": -330
    },
    "id": "w9JTAAp-SH0j",
    "outputId": "edb0e91c-a8d6-42fa-96ab-fa2e7da0846d"
   },
   "outputs": [
    {
     "data": {
      "text/plain": [
       "fiscal_year               0\n",
       "types_of_drug_offenses    0\n",
       "no_cases                  0\n",
       "province_th               0\n",
       "province_en               0\n",
       "dtype: int64"
      ]
     },
     "execution_count": 38,
     "metadata": {},
     "output_type": "execute_result"
    }
   ],
   "source": [
    "df.isna().sum()"
   ]
  },
  {
   "cell_type": "code",
   "execution_count": 42,
   "metadata": {
    "colab": {
     "base_uri": "https://localhost:8080/"
    },
    "executionInfo": {
     "elapsed": 586,
     "status": "ok",
     "timestamp": 1693834571975,
     "user": {
      "displayName": "Daksh Gupta",
      "userId": "11278762978921575322"
     },
     "user_tz": -330
    },
    "id": "Y05P3zQZSH6s",
    "outputId": "c4d8eaa6-5c43-4513-aee4-7ad045675fce"
   },
   "outputs": [
    {
     "data": {
      "text/plain": [
       "pandas.core.indexes.base.Index"
      ]
     },
     "execution_count": 42,
     "metadata": {},
     "output_type": "execute_result"
    }
   ],
   "source": [
    "type(numeric_df.columns)"
   ]
  },
  {
   "cell_type": "code",
   "execution_count": 45,
   "metadata": {
    "colab": {
     "base_uri": "https://localhost:8080/"
    },
    "executionInfo": {
     "elapsed": 591,
     "status": "ok",
     "timestamp": 1693835077869,
     "user": {
      "displayName": "Daksh Gupta",
      "userId": "11278762978921575322"
     },
     "user_tz": -330
    },
    "id": "2qVRJB1KaAON",
    "outputId": "12acd334-1662-4d7d-ea89-f1b1220f14c5"
   },
   "outputs": [
    {
     "data": {
      "text/plain": [
       "Index(['fiscal_year', 'types_of_drug_offenses', 'no_cases', 'province_th',\n",
       "       'province_en'],\n",
       "      dtype='object')"
      ]
     },
     "execution_count": 45,
     "metadata": {},
     "output_type": "execute_result"
    }
   ],
   "source": [
    "df.columns"
   ]
  },
  {
   "cell_type": "code",
   "execution_count": 46,
   "metadata": {
    "colab": {
     "base_uri": "https://localhost:8080/"
    },
    "executionInfo": {
     "elapsed": 531,
     "status": "ok",
     "timestamp": 1693835131010,
     "user": {
      "displayName": "Daksh Gupta",
      "userId": "11278762978921575322"
     },
     "user_tz": -330
    },
    "id": "XZvFSDWeSICB",
    "outputId": "33215f2f-3c32-42f1-8b81-6e8c3696588a"
   },
   "outputs": [
    {
     "data": {
      "text/plain": [
       "0       2017\n",
       "1       2017\n",
       "2       2017\n",
       "3       2017\n",
       "4       2017\n",
       "        ... \n",
       "7387    2022\n",
       "7388    2022\n",
       "7389    2022\n",
       "7390    2022\n",
       "7391    2022\n",
       "Name: fiscal_year, Length: 7392, dtype: int64"
      ]
     },
     "execution_count": 46,
     "metadata": {},
     "output_type": "execute_result"
    }
   ],
   "source": [
    "df.fiscal_year"
   ]
  },
  {
   "cell_type": "markdown",
   "metadata": {
    "id": "vxSq1SrSsWpb"
   },
   "source": [
    "6 unique values in fiscal year"
   ]
  },
  {
   "cell_type": "code",
   "execution_count": 66,
   "metadata": {
    "colab": {
     "base_uri": "https://localhost:8080/"
    },
    "executionInfo": {
     "elapsed": 2006,
     "status": "ok",
     "timestamp": 1693839600193,
     "user": {
      "displayName": "Daksh Gupta",
      "userId": "11278762978921575322"
     },
     "user_tz": -330
    },
    "id": "91OJrweHcR2Y",
    "outputId": "7ea2f189-aeca-4b9a-f44b-d449acfa82e4"
   },
   "outputs": [
    {
     "data": {
      "text/plain": [
       "array([2017, 2018, 2019, 2020, 2021, 2022])"
      ]
     },
     "execution_count": 66,
     "metadata": {},
     "output_type": "execute_result"
    }
   ],
   "source": [
    "year= df.fiscal_year.unique()\n",
    "year"
   ]
  },
  {
   "cell_type": "code",
   "execution_count": 67,
   "metadata": {
    "colab": {
     "base_uri": "https://localhost:8080/"
    },
    "executionInfo": {
     "elapsed": 45,
     "status": "ok",
     "timestamp": 1693839608294,
     "user": {
      "displayName": "Daksh Gupta",
      "userId": "11278762978921575322"
     },
     "user_tz": -330
    },
    "id": "vqVV1uJGtS3F",
    "outputId": "e04823cf-921f-432d-bb81-bff887cdf7b2"
   },
   "outputs": [
    {
     "data": {
      "text/plain": [
       "6"
      ]
     },
     "execution_count": 67,
     "metadata": {},
     "output_type": "execute_result"
    }
   ],
   "source": [
    "len(year)"
   ]
  },
  {
   "cell_type": "markdown",
   "metadata": {
    "id": "oHuXk2OXsumN"
   },
   "source": [
    "16 unique types of drug offenses"
   ]
  },
  {
   "cell_type": "code",
   "execution_count": 65,
   "metadata": {
    "colab": {
     "base_uri": "https://localhost:8080/"
    },
    "executionInfo": {
     "elapsed": 1985,
     "status": "ok",
     "timestamp": 1693839583144,
     "user": {
      "displayName": "Daksh Gupta",
      "userId": "11278762978921575322"
     },
     "user_tz": -330
    },
    "id": "ci2zYeQ7sVeF",
    "outputId": "9b9c6ab6-6f61-4965-8b62-b4ec57c98cbf"
   },
   "outputs": [
    {
     "data": {
      "text/plain": [
       "array(['drug_use_cases', 'suspects_in_drug_use_cases', 'possession_cases',\n",
       "       'suspects_in_possession_cases',\n",
       "       'possession_with_intent_to_distribute_cases',\n",
       "       'suspects_in_possession_with_intent_to_distribute_cases',\n",
       "       'trafficking_cases', 'suspects_in_trafficking_cases',\n",
       "       'production_cases', 'suspects_in_production_cases', 'import_cases',\n",
       "       'suspects_in_import_cases', 'export_cases',\n",
       "       'suspects_in_export_cases', 'conspiracy_cases',\n",
       "       'suspects_in_conspiracy_cases'], dtype=object)"
      ]
     },
     "execution_count": 65,
     "metadata": {},
     "output_type": "execute_result"
    }
   ],
   "source": [
    "types=df.types_of_drug_offenses.unique()\n",
    "types"
   ]
  },
  {
   "cell_type": "code",
   "execution_count": 68,
   "metadata": {
    "colab": {
     "base_uri": "https://localhost:8080/"
    },
    "executionInfo": {
     "elapsed": 550,
     "status": "ok",
     "timestamp": 1693839621532,
     "user": {
      "displayName": "Daksh Gupta",
      "userId": "11278762978921575322"
     },
     "user_tz": -330
    },
    "id": "ZgcJhY3JcR6f",
    "outputId": "47b726ea-7fc1-4d5f-d1cd-3d8481ebeb9e"
   },
   "outputs": [
    {
     "data": {
      "text/plain": [
       "16"
      ]
     },
     "execution_count": 68,
     "metadata": {},
     "output_type": "execute_result"
    }
   ],
   "source": [
    "len(types)"
   ]
  },
  {
   "cell_type": "markdown",
   "metadata": {
    "id": "UNTxU9tpuZ34"
   },
   "source": [
    "number of area cases were recorded- 77"
   ]
  },
  {
   "cell_type": "code",
   "execution_count": 69,
   "metadata": {
    "colab": {
     "base_uri": "https://localhost:8080/"
    },
    "executionInfo": {
     "elapsed": 15,
     "status": "ok",
     "timestamp": 1693839860678,
     "user": {
      "displayName": "Daksh Gupta",
      "userId": "11278762978921575322"
     },
     "user_tz": -330
    },
    "id": "jnFSRL50uARC",
    "outputId": "01d1e93a-b193-4948-de20-753d168d5b01"
   },
   "outputs": [
    {
     "data": {
      "text/plain": [
       "array(['Bangkok', 'Chai Nat', 'Nonthaburi', 'Pathum Thani',\n",
       "       'Phra Nakhon Si Ayutthaya', 'Loburi', 'Samut Prakan', 'Saraburi',\n",
       "       'Sing Buri', 'Ang Thong', 'Chanthaburi', 'Chachoengsao',\n",
       "       'Chon Buri', 'Trat', 'Nakhon Nayok', 'Prachin Buri', 'Rayong',\n",
       "       'Sa Kaeo', 'Chaiyaphum', 'Nakhon Ratchasima', 'Buri Ram',\n",
       "       'Yasothon', 'Si Sa Ket', 'Surin', 'Amnat Charoen',\n",
       "       'Ubon Ratchathani', 'Kalasin', 'Khon Kaen', 'Nakhon Phanom',\n",
       "       'buogkan', 'Maha Sarakham', 'Mukdahan', 'Roi Et', 'Loei',\n",
       "       'Sakon Nakhon', 'Nong Khai', 'Nong Bua Lam Phu', 'Udon Thani',\n",
       "       'Chiang Rai', 'Chiang Mai', 'Nan', 'Phayao', 'Phrae',\n",
       "       'Mae Hong Son', 'Lampang', 'Lamphun', 'Kamphaeng Phet', 'Tak',\n",
       "       'Nakhon Sawan', 'Phichit', 'Phitsanulok', 'Phetchabun',\n",
       "       'Sukhothai', 'Uttaradit', 'Uthai Thani', 'Kanchanaburi',\n",
       "       'Nakhon Pathom', 'Prachuap Khiri Khan', 'Phetchaburi',\n",
       "       'Ratchaburi', 'Samut Songkhram', 'Samut Sakhon', 'Suphan Buri',\n",
       "       'Krabi', 'Chumphon', 'Nakhon Si Thammarat', 'Phangnga', 'Phuket',\n",
       "       'Ranong', 'Surat Thani', 'Trang', 'Narathiwat', 'Pattani',\n",
       "       'Phatthalung', 'Yala', 'Songkhla', 'Satun'], dtype=object)"
      ]
     },
     "execution_count": 69,
     "metadata": {},
     "output_type": "execute_result"
    }
   ],
   "source": [
    "area=df.province_en.unique()\n",
    "area"
   ]
  },
  {
   "cell_type": "code",
   "execution_count": 70,
   "metadata": {
    "colab": {
     "base_uri": "https://localhost:8080/"
    },
    "executionInfo": {
     "elapsed": 615,
     "status": "ok",
     "timestamp": 1693839888503,
     "user": {
      "displayName": "Daksh Gupta",
      "userId": "11278762978921575322"
     },
     "user_tz": -330
    },
    "id": "WNbC062fuUC9",
    "outputId": "814b0180-3acf-4cfb-8e3c-612ccc67ad3f"
   },
   "outputs": [
    {
     "data": {
      "text/plain": [
       "77"
      ]
     },
     "execution_count": 70,
     "metadata": {},
     "output_type": "execute_result"
    }
   ],
   "source": [
    "len(area)"
   ]
  },
  {
   "cell_type": "code",
   "execution_count": 58,
   "metadata": {
    "colab": {
     "base_uri": "https://localhost:8080/"
    },
    "executionInfo": {
     "elapsed": 564,
     "status": "ok",
     "timestamp": 1693838717166,
     "user": {
      "displayName": "Daksh Gupta",
      "userId": "11278762978921575322"
     },
     "user_tz": -330
    },
    "id": "RaZe-TJncmIV",
    "outputId": "1eaa3c11-1207-4af2-a87f-b70772fe4b80"
   },
   "outputs": [
    {
     "data": {
      "text/plain": [
       "2017    1232\n",
       "2018    1232\n",
       "2019    1232\n",
       "2020    1232\n",
       "2021    1232\n",
       "2022    1232\n",
       "Name: fiscal_year, dtype: int64"
      ]
     },
     "execution_count": 58,
     "metadata": {},
     "output_type": "execute_result"
    }
   ],
   "source": [
    "year_records= df.fiscal_year.value_counts()\n",
    "year_records"
   ]
  },
  {
   "cell_type": "code",
   "execution_count": 61,
   "metadata": {
    "colab": {
     "base_uri": "https://localhost:8080/"
    },
    "executionInfo": {
     "elapsed": 482,
     "status": "ok",
     "timestamp": 1693839296179,
     "user": {
      "displayName": "Daksh Gupta",
      "userId": "11278762978921575322"
     },
     "user_tz": -330
    },
    "id": "5CFnhKxphiGG",
    "outputId": "b606679f-12e2-4aa6-8e13-2fe1ea1ad671"
   },
   "outputs": [
    {
     "data": {
      "text/plain": [
       "fiscal_year\n",
       "2017     91444\n",
       "2018    146761\n",
       "2019    177078\n",
       "2020    141570\n",
       "2021    231406\n",
       "2022    127270\n",
       "Name: no_cases, dtype: int64"
      ]
     },
     "execution_count": 61,
     "metadata": {},
     "output_type": "execute_result"
    }
   ],
   "source": [
    "df_grouped = df[df[\"types_of_drug_offenses\"].eq(\"drug_use_cases\")].groupby(by=\"fiscal_year\")[\"no_cases\"].sum()\n",
    "df_grouped"
   ]
  },
  {
   "cell_type": "markdown",
   "metadata": {
    "id": "t679d4NMu4p2"
   },
   "source": [
    "graph of number of cases and year"
   ]
  },
  {
   "cell_type": "code",
   "execution_count": 71,
   "metadata": {
    "colab": {
     "base_uri": "https://localhost:8080/",
     "height": 467
    },
    "executionInfo": {
     "elapsed": 770,
     "status": "ok",
     "timestamp": 1693840063641,
     "user": {
      "displayName": "Daksh Gupta",
      "userId": "11278762978921575322"
     },
     "user_tz": -330
    },
    "id": "dBl1tDErh7SQ",
    "outputId": "3fba2400-0c54-4b7a-a99f-5a04cc5a44a7"
   },
   "outputs": [
    {
     "data": {
      "text/plain": [
       "<Axes: xlabel='fiscal_year'>"
      ]
     },
     "execution_count": 71,
     "metadata": {},
     "output_type": "execute_result"
    },
    {
     "data": {
      "image/png": "[encoded data removed]",
      "text/plain": [
       "<Figure size 640x480 with 1 Axes>"
      ]
     },
     "metadata": {},
     "output_type": "display_data"
    }
   ],
   "source": [
    "df_grouped.plot(kind=\"line\")"
   ]
  },
  {
   "cell_type": "code",
   "execution_count": 75,
   "metadata": {
    "colab": {
     "base_uri": "https://localhost:8080/"
    },
    "executionInfo": {
     "elapsed": 633,
     "status": "ok",
     "timestamp": 1693840590187,
     "user": {
      "displayName": "Daksh Gupta",
      "userId": "11278762978921575322"
     },
     "user_tz": -330
    },
    "id": "XDJEug6-vHGr",
    "outputId": "3aec1f51-c203-4efc-adaa-20dcdb9e09f5"
   },
   "outputs": [
    {
     "data": {
      "text/plain": [
       "231406"
      ]
     },
     "execution_count": 75,
     "metadata": {},
     "output_type": "execute_result"
    }
   ],
   "source": [
    "df_grouped.max()"
   ]
  },
  {
   "cell_type": "markdown",
   "metadata": {
    "id": "8WtyC28ayj70"
   },
   "source": [
    "Types of cases recorded in 6 years"
   ]
  },
  {
   "cell_type": "code",
   "execution_count": 82,
   "metadata": {
    "colab": {
     "base_uri": "https://localhost:8080/"
    },
    "executionInfo": {
     "elapsed": 589,
     "status": "ok",
     "timestamp": 1693840949735,
     "user": {
      "displayName": "Daksh Gupta",
      "userId": "11278762978921575322"
     },
     "user_tz": -330
    },
    "id": "khqx2ogpxS74",
    "outputId": "4a516c21-ac37-4cdc-f06b-747fb5363579"
   },
   "outputs": [
    {
     "data": {
      "text/plain": [
       "types_of_drug_offenses\n",
       "conspiracy_cases                                             920\n",
       "drug_use_cases                                            915529\n",
       "export_cases                                                  84\n",
       "import_cases                                                 860\n",
       "possession_cases                                          538893\n",
       "possession_with_intent_to_distribute_cases                341283\n",
       "production_cases                                           56892\n",
       "suspects_in_conspiracy_cases                                2332\n",
       "suspects_in_drug_use_cases                                930768\n",
       "suspects_in_export_cases                                     102\n",
       "suspects_in_import_cases                                    1066\n",
       "suspects_in_possession_cases                              566999\n",
       "suspects_in_possession_with_intent_to_distribute_cases    386946\n",
       "suspects_in_production_cases                               66247\n",
       "suspects_in_trafficking_cases                              79997\n",
       "trafficking_cases                                          68379\n",
       "Name: no_cases, dtype: int64"
      ]
     },
     "execution_count": 82,
     "metadata": {},
     "output_type": "execute_result"
    }
   ],
   "source": [
    "df_types_of_cases = df.groupby(by=\"types_of_drug_offenses\")[\"no_cases\"].sum()\n",
    "df_types_of_cases"
   ]
  },
  {
   "cell_type": "code",
   "execution_count": 88,
   "metadata": {
    "colab": {
     "base_uri": "https://localhost:8080/",
     "height": 840
    },
    "executionInfo": {
     "elapsed": 899,
     "status": "ok",
     "timestamp": 1693842044353,
     "user": {
      "displayName": "Daksh Gupta",
      "userId": "11278762978921575322"
     },
     "user_tz": -330
    },
    "id": "p5hqQN4wzyPX",
    "outputId": "1f06c288-eaac-4081-e5f5-e84762392b68"
   },
   "outputs": [
    {
     "data": {
      "text/plain": [
       "<Axes: xlabel='types_of_drug_offenses'>"
      ]
     },
     "execution_count": 88,
     "metadata": {},
     "output_type": "execute_result"
    },
    {
     "data": {
      "image/png": "[encoded data removed]",
      "text/plain": [
       "<Figure size 640x480 with 1 Axes>"
      ]
     },
     "metadata": {},
     "output_type": "display_data"
    }
   ],
   "source": [
    "df_types_of_cases.plot(kind=\"bar\")"
   ]
  },
  {
   "cell_type": "code",
   "execution_count": 89,
   "metadata": {
    "executionInfo": {
     "elapsed": 761,
     "status": "ok",
     "timestamp": 1693842914793,
     "user": {
      "displayName": "Daksh Gupta",
      "userId": "11278762978921575322"
     },
     "user_tz": -330
    },
    "id": "vLMwHaAF5urz"
   },
   "outputs": [],
   "source": []
  },
  {
   "cell_type": "code",
   "execution_count": 104,
   "metadata": {
    "executionInfo": {
     "elapsed": 535,
     "status": "ok",
     "timestamp": 1693846961102,
     "user": {
      "displayName": "Daksh Gupta",
      "userId": "11278762978921575322"
     },
     "user_tz": -330
    },
    "id": "nirq2hXC5unW"
   },
   "outputs": [],
   "source": []
  },
  {
   "cell_type": "code",
   "execution_count": 103,
   "metadata": {
    "executionInfo": {
     "elapsed": 565,
     "status": "ok",
     "timestamp": 1693846169405,
     "user": {
      "displayName": "Daksh Gupta",
      "userId": "11278762978921575322"
     },
     "user_tz": -330
    },
    "id": "H30IbFwb5ujc"
   },
   "outputs": [],
   "source": []
  },
  {
   "cell_type": "code",
   "execution_count": 103,
   "metadata": {
    "executionInfo": {
     "elapsed": 804,
     "status": "ok",
     "timestamp": 1693846174981,
     "user": {
      "displayName": "Daksh Gupta",
      "userId": "11278762978921575322"
     },
     "user_tz": -330
    },
    "id": "6Q4K1hR15ueI"
   },
   "outputs": [],
   "source": []
  },
  {
   "cell_type": "code",
   "execution_count": 104,
   "metadata": {
    "executionInfo": {
     "elapsed": 627,
     "status": "ok",
     "timestamp": 1693846969614,
     "user": {
      "displayName": "Daksh Gupta",
      "userId": "11278762978921575322"
     },
     "user_tz": -330
    },
    "id": "LFqV0Tor5uWe"
   },
   "outputs": [],
   "source": []
  },
  {
   "cell_type": "markdown",
   "metadata": {
    "id": "yt9ZJtH_JbM-"
   },
   "source": [
    "## Summary and Conclusion\n",
    "\n",
    "\n",
    "*   Most cases happened in 2021 with 231406 cases\n",
    "*   suspected for drug case was the most common type of case with 930768 cases\n",
    "*   data was recorded of 6 years from 2017-2022\n",
    "*   every year has same number of records which is 1232, I\n",
    "\n",
    "\n",
    "\n",
    "\n",
    "\n"
   ]
  },
  {
   "cell_type": "code",
   "execution_count": null,
   "metadata": {
    "id": "Q1y9Last5uST"
   },
   "outputs": [],
   "source": []
  },
  {
   "cell_type": "code",
   "execution_count": null,
   "metadata": {
    "id": "YWYLCUjB5uNn"
   },
   "outputs": [],
   "source": []
  },
  {
   "cell_type": "code",
   "execution_count": null,
   "metadata": {
    "id": "TUozBAnU5uJJ"
   },
   "outputs": [],
   "source": []
  },
  {
   "cell_type": "code",
   "execution_count": null,
   "metadata": {
    "id": "JrGaBzvJ5t5o"
   },
   "outputs": [],
   "source": []
  }
 ],
 "metadata": {
  "colab": {
   "provenance": []
  },
  "language_info": {
   "codemirror_mode": {
    "name": "ipython",
    "version": 3
   },
   "file_extension": ".py",
   "mimetype": "text/x-python",
   "name": "python",
   "nbconvert_exporter": "python",
   "pygments_lexer": "ipython3",
   "version": "3.7.6"
  }
 },
 "nbformat": 4,
 "nbformat_minor": 0
}